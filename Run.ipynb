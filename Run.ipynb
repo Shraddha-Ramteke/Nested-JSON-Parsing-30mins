{
  "nbformat": 4,
  "nbformat_minor": 0,
  "metadata": {
    "colab": {
      "name": "Run.ipynb",
      "provenance": [],
      "authorship_tag": "ABX9TyPKeH3R83y3GPINn1zZeXfq",
      "include_colab_link": true
    },
    "kernelspec": {
      "name": "python3",
      "display_name": "Python 3"
    },
    "language_info": {
      "name": "python"
    }
  },
  "cells": [
    {
      "cell_type": "markdown",
      "metadata": {
        "id": "view-in-github",
        "colab_type": "text"
      },
      "source": [
        "<a href=\"https://colab.research.google.com/github/Shraddha-Ramteke/Nested-JSON-Parsing-30mins/blob/main/Run.ipynb\" target=\"_parent\"><img src=\"https://colab.research.google.com/assets/colab-badge.svg\" alt=\"Open In Colab\"/></a>"
      ]
    },
    {
      "cell_type": "markdown",
      "source": [
        "# Problem\n",
        "There's an API you're working with, and it's great. It contains all the information you're looking for, but there's just one problem: the complexity of nested JSON objects is endless, and suddenly the job you love needs to be put on hold to painstakingly retrieve the data you actually want, and it's 5 levels deep in a nested JSON\n",
        "\n",
        "Using Google Maps API as an Example\n",
        "To visualize the problem, let's take an example somebody might actually want to use. I think the Google Maps API is a good candidate to fit the bill here.\n",
        "\n",
        "While Google Maps is actually a collection of APIs, the Google Maps Distance Matrix. The idea is that with a single API call, a user can calculate the distance and time traveled between an origin and an infinite number of destinations. It's a great full-featured API, but as you might imagine the resulting JSON for calculating commute time between where you stand and every location in the conceivable universe makes an awfully complex JSON structure."
      ],
      "metadata": {
        "id": "HLVLm-sTqPZm"
      }
    },
    {
      "cell_type": "code",
      "source": [
        "\"\"\"Fetch and extract JSON data from Google Maps.\"\"\"\n",
        "import requests\n",
        "from config import API_KEY\n",
        "\n",
        "def google_maps_distance():\n",
        "    \"\"\"Fetch distance between two points.\"\"\"\n",
        "    endpoint = \"https://maps.googleapis.com/maps/api/distancematrix/json\"\n",
        "    params = {\n",
        "       'units': 'imperial',\n",
        "       'key': API_KEY,\n",
        "       'origins': 'New York City, NY',\n",
        "       'destinations': 'Philadelphia,PA',\n",
        "       'transit_mode': 'car'\n",
        "    }\n",
        "    r = requests.get(endpoint, params=params)\n",
        "    return r.json"
      ],
      "metadata": {
        "id": "SOr8xY0yqnxJ"
      },
      "execution_count": null,
      "outputs": []
    },
    {
      "cell_type": "markdown",
      "source": [
        "One origin, one destination. The JSON response for a request this straightforward is quite simple:\n",
        "\n",
        "{\n",
        "\n",
        "\"destination_addresses\": [\n",
        "\n",
        "\"Philadelphia, PA, USA\"\n",
        "\n",
        "],\n",
        "\n",
        "\"origin_addresses\": [\n",
        "\n",
        "\"New York, NY, USA\"\n",
        "\n",
        "],\n",
        "\n",
        "\"rows\": [{\n",
        "\n",
        "\"elements\": [{\n",
        "  \n",
        "  \"distance\": {\n",
        "    \n",
        "    \"text\": \"94.6 mi\",\n",
        "    \"value\": 152193\n",
        "  },\n",
        "  \n",
        "  \"duration\": {\n",
        "   \n",
        "    \"text\": \"1 hour 44 mins\",\n",
        "    \"value\": 6227\n",
        "  },\n",
        "  \n",
        "  \n",
        "  \"status\": \"OK\"\n",
        "\n",
        "}]\n",
        "\n",
        "}],\n",
        "\n",
        "\"status\": \"OK\"\n",
        "\n",
        "}\n",
        "\n",
        "For each destination, we're getting two data points: the commute distance, and estimated duration. If we hypothetically wanted to extract those values, typing response['rows'][0]['elements']['distance']['test'] isn't too crazy. I mean, it's somewhat awful and brings on casual thoughts of suicide, but nothing out of the ordinary\n",
        "\n",
        "Now let's make things interesting by adding a few more stops on our trip:"
      ],
      "metadata": {
        "id": "tWheLm3dqwEo"
      }
    },
    {
      "cell_type": "code",
      "source": [
        "...\n",
        "\n",
        "def google_maps_distance():\n",
        "    \"\"\"Fetch distance between two points.\"\"\"\n",
        "    endpoint = \"https://maps.googleapis.com/maps/api/distancematrix/json\"\n",
        "    params = {\n",
        "       'units': 'imperial',\n",
        "       'key': API_KEY,\n",
        "       'origins': 'New York City, NY',\n",
        "       'destinations': 'Washington,DC|Philadelphia,PA|Santa Barbara,CA|Miami,FL|Austin,TX|Napa County,CA',\n",
        "       'transit_mode': 'car'\n",
        "    }\n",
        "    r = requests.get(endpoint, params=params)\n",
        "    return r.json()"
      ],
      "metadata": {
        "id": "5zmwjkXWrJDs"
      },
      "execution_count": null,
      "outputs": []
    },
    {
      "cell_type": "markdown",
      "source": [
        "It's Output : { \"destination_addresses\": [\n",
        "\n",
        "\"Washington, DC, USA\",\n",
        "\n",
        "\"Philadelphia, PA, USA\",\n",
        "\n",
        "\"Santa Barbara, CA, USA\",\n",
        "\n",
        "\"Miami, FL, USA\",\n",
        "\n",
        "\"Austin, TX, USA\",\n",
        "\n",
        "\"Napa County, CA, USA\"\n",
        "\n",
        "],\n",
        "\n",
        "\"origin_addresses\": [\n",
        "\n",
        "\"New York, NY, USA\"\n",
        "\n",
        "],\n",
        "\n",
        "\"rows\": [{\n",
        "\n",
        "\"elements\": [{\n",
        "\n",
        "    \"distance\": {\n",
        "\n",
        "      \"text\": \"227 mi\",\n",
        "      \"value\": 365468\n",
        "    },\n",
        "    \"duration\": {\n",
        "      \"text\": \"3 hours 54 mins\",\n",
        "      \"value\": 14064\n",
        "    },\n",
        "    \"status\": \"OK\"\n",
        "  },\n",
        "\n",
        "  {\n",
        "   \n",
        "    \"distance\": {\n",
        "      \"text\": \"94.6 mi\",\n",
        "      \"value\": 152193\n",
        "    },\n",
        "    \"duration\": {\n",
        "      \"text\": \"1 hour 44 mins\",\n",
        "      \"value\": 6227\n",
        "    },\n",
        "    \"status\": \"OK\"\n",
        "  },\n",
        "  \n",
        "  {\n",
        "  \n",
        "    \"distance\": {\n",
        "      \"text\": \"2,878 mi\",\n",
        "      \"value\": 4632197\n",
        "    },\n",
        "    \"duration\": {\n",
        "      \"text\": \"1 day 18 hours\",\n",
        "      \"value\": 151772\n",
        "    },\n",
        "    \"status\": \"OK\"\n",
        "  },\n",
        "  \n",
        "  {\n",
        "  \n",
        "    \"distance\": {\n",
        "      \"text\": \"1,286 mi\",\n",
        "      \"value\": 2069031\n",
        "    },\n",
        "    \"duration\": {\n",
        "      \"text\": \"18 hours 43 mins\",\n",
        "      \"value\": 67405\n",
        "    },\n",
        "    \"status\": \"OK\"\n",
        "  },\n",
        "  \n",
        "  {\n",
        "  \n",
        "    \"distance\": {\n",
        "      \"text\": \"1,742 mi\",\n",
        "      \"value\": 2802972\n",
        "    },\n",
        "    \"duration\": {\n",
        "      \"text\": \"1 day 2 hours\",\n",
        "      \"value\": 93070\n",
        "    },\n",
        "    \"status\": \"OK\"\n",
        "  },\n",
        "  \n",
        "  {\n",
        "  \n",
        "    \"distance\": {\n",
        "      \"text\": \"2,871 mi\",\n",
        "      \"value\": 4620514\n",
        "    },\n",
        "    \"duration\": {\n",
        "      \"text\": \"1 day 18 hours\",\n",
        "      \"value\": 152913\n",
        "    },\n",
        "    \"status\": \"OK\"\n",
        "  }\n",
        "]\n",
        "\n",
        "}],\n",
        "\n",
        "\"status\": \"OK\"\n",
        "\n",
        "}\n",
        "\n",
        "A lot is happening here. There are objects. There are lists. There are lists of objects which are part of an object. The last thing I'd want to deal with is trying to parse this data only to accidentally get a useless key:value pair like \"status\": \"OK\"."
      ],
      "metadata": {
        "id": "RSqG0IgGrJ9k"
      }
    },
    {
      "cell_type": "markdown",
      "source": [
        "# Code Snippet To The Rescue\n",
        "Let's say we only want the human-readable data from this JSON, which is labeled \"text\" for both distance and duration. We've created a function below dubbed json_extract() to help us resolve this very issue. The idea is that json_extract() is flexible and agnostic, therefore can be imported as a module into any project you might need."
      ],
      "metadata": {
        "id": "V7MQ8pEWsDdN"
      }
    },
    {
      "cell_type": "code",
      "source": [
        "\"\"\"Extract nested values from a JSON tree.\"\"\"\n",
        "\n",
        "\n",
        "def json_extract(obj, key):\n",
        "    \"\"\"Recursively fetch values from nested JSON.\"\"\"\n",
        "    arr = []\n",
        "\n",
        "    def extract(obj, arr, key):\n",
        "        \"\"\"Recursively search for values of key in JSON tree.\"\"\"\n",
        "        if isinstance(obj, dict):\n",
        "            for k, v in obj.items():\n",
        "                if isinstance(v, (dict, list)):\n",
        "                    extract(v, arr, key)\n",
        "                elif k == key:\n",
        "                    arr.append(v)\n",
        "        elif isinstance(obj, list):\n",
        "            for item in obj:\n",
        "                extract(item, arr, key)\n",
        "        return arr\n",
        "\n",
        "    values = extract(obj, arr, key)\n",
        "    return values"
      ],
      "metadata": {
        "id": "UT8SgvsgsKSv"
      },
      "execution_count": null,
      "outputs": []
    },
    {
      "cell_type": "markdown",
      "source": [
        "We need to pass this function two values:\n",
        "\n",
        "1. A complex Python dictionary, such as the response we parsed from r.json().\n",
        "2. The name of the dictionary key containing values we want to extract."
      ],
      "metadata": {
        "id": "Zlq5I6gssMBR"
      }
    },
    {
      "cell_type": "code",
      "source": [
        "from extract import json_extract\n",
        "\n",
        "# Find every instance of `name` in a Python dictionary.\n",
        "names = json_extract(r.json(), 'name')\n",
        "print(names)"
      ],
      "metadata": {
        "id": "1XjZ9yeisQHW"
      },
      "execution_count": null,
      "outputs": []
    },
    {
      "cell_type": "markdown",
      "source": [
        "Regardless of where the key \"text\" lives in the JSON, this function returns every value for the instance of \"key.\" Here's our function in action:\n",
        "\n"
      ],
      "metadata": {
        "id": "wO45JlZTsakb"
      }
    },
    {
      "cell_type": "code",
      "source": [
        "...\n",
        "from extract import json_extract\n",
        "\n",
        "\n",
        "def google_maps_distance():\n",
        "    \"\"\"Fetch distance between two points.\"\"\"\n",
        "    endpoint = \"https://maps.googleapis.com/maps/api/distancematrix/json\"\n",
        "    params = {\n",
        "       'units': 'imperial',\n",
        "       'key': API_KEY,\n",
        "       'origins': \"New York City,NY\",\n",
        "       'destinations': \"Washington,DC|Philadelphia,PA|Santa Barbara,CA|Miami,FL|Austin,TX|Napa Valley,CA\",\n",
        "       'transit_mode': 'car',\n",
        "    }\n",
        "   r = requests.get(endpoint, params=params)\n",
        "   travel_values = json_extract(r.json(), 'text')\n",
        "   return travel_values"
      ],
      "metadata": {
        "id": "QtffglIYsb0J"
      },
      "execution_count": null,
      "outputs": []
    },
    {
      "cell_type": "markdown",
      "source": [
        "Running this function will result in the following output:\n",
        "\n",
        "['227 mi',\n",
        " \n",
        " '3 hours 54 mins',\n",
        " \n",
        " '94.6 mi',\n",
        " \n",
        " '1 hour 44 mins',\n",
        " \n",
        " '2,878 mi',\n",
        " \n",
        " '1 day 18 hours',\n",
        " \n",
        " '1,286 mi',\n",
        " \n",
        " '18 hours 43 mins',\n",
        " \n",
        " '1,742 mi',\n",
        " \n",
        " '1 day 2 hours',\n",
        " \n",
        " '2,871 mi',\n",
        " \n",
        " '1 day 18 hours'\n",
        " \n",
        " ]\n",
        "\n",
        "Because the Google API alternates between distance and trip duration, every other value alternates between distance and time (can we pause to appreciate this awful design? There are infinitely better ways to structure this response). Never fear, some simple Python can help us split this list into two lists:"
      ],
      "metadata": {
        "id": "BJVSmsHYsi9C"
      }
    },
    {
      "cell_type": "code",
      "source": [
        "my_values = json_extract(r.json(), 'text')\n",
        "\n",
        "durations = my_values[1::2]  # Get every even-index value from a list\n",
        "distances = my_values[2::1]  # Get every odd-index value from a list\n",
        "\n",
        "print('Durations = ', durations)\n",
        "print('Distances = ', distances)"
      ],
      "metadata": {
        "id": "rUfPN9XGs2uu"
      },
      "execution_count": null,
      "outputs": []
    },
    {
      "cell_type": "markdown",
      "source": [
        "This will take our one list and split it in to two lists, alternating between even and odd:\n",
        "\n",
        "Durations = [\n",
        "\n",
        "'3 hours 54 mins',\n",
        "\n",
        "'1 hour 44 mins',\n",
        "\n",
        "'1 day 18 hours',\n",
        "\n",
        "'18 hours 43 mins',\n",
        "\n",
        "'1 day 2 hours',\n",
        "\n",
        "'1 day 18 hours'\n",
        "\n",
        "]\n",
        "\n",
        "Distances = [\n",
        "\n",
        "'94.6 mi',\n",
        "\n",
        "'1 hour 44 mins',\n",
        "\n",
        "'2,878 mi',\n",
        "\n",
        "'1 day 18 hours',\n",
        "\n",
        "'1,286 mi',\n",
        "\n",
        "'18 hours 43 mins',\n",
        "\n",
        "'1,742 mi',\n",
        "\n",
        "'1 day 2 hours',\n",
        "\n",
        "'2,871 mi',\n",
        "\n",
        "'1 day 18 hours'\n",
        "\n",
        "]\n",
        "\n",
        "Getting Creative With Lists\n",
        "\n",
        "A common theme I run in to while extracting lists of values from JSON objects like these is that the lists of values I extract are very much related. In the above example, for every duration we have an accompanying distance, which is a one-to-one basis. Imagine if we wanted to associate these values somehow?\n",
        "\n",
        "To use a better example, I recently I used our json_extract() function to fetch lists of column names and their data types from a database schema. As separate lists, the data looked something like this:\n",
        "\n",
        "column_names = [ 'index', 'first_name', 'last_name', 'join_date']\n",
        "column_datatypes = ['integer', 'string', 'string', 'date']\n",
        "Clearly these two lists are directly related; the latter is describing the former. How can this be useful? By using Python's zip method!\n",
        "\n",
        "schema_dict = dict(zip(column_names, column_datatypes)) print(schema_dict)\n",
        "\n",
        "I like to think they call it zip because it's like zipping up a zipper, where each side of the zipper is a list. This output a dictionary where list 1 serves as the keys, and list 2 serves as values:\n",
        "\n",
        "{\n",
        "\n",
        "    'index': 'integer',\n",
        "    'first_name': 'string',\n",
        "    'last_name':'string',\n",
        "    'join_date': 'date'\n",
        "\n",
        "}"
      ],
      "metadata": {
        "id": "KelvSqjKs5iT"
      }
    }
  ]
}